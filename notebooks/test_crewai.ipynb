{
 "cells": [
  {
   "cell_type": "code",
   "execution_count": 1,
   "id": "f5807e32",
   "metadata": {},
   "outputs": [
    {
     "name": "stdout",
     "output_type": "stream",
     "text": [
      "Python version: 3.13.5 (tags/v3.13.5:6cb20a2, Jun 11 2025, 16:15:46) [MSC v.1943 64 bit (AMD64)]\n",
      "✅ CrewAI imported successfully!\n",
      "CrewAI version: 0.150.0\n"
     ]
    }
   ],
   "source": [
    "# Cell 1: Basic imports test\n",
    "import sys\n",
    "print(f\"Python version: {sys.version}\")\n",
    "\n",
    "try:\n",
    "    import crewai\n",
    "    print(\"✅ CrewAI imported successfully!\")\n",
    "    print(f\"CrewAI version: {crewai.__version__}\")\n",
    "except ImportError as e:\n",
    "    print(f\"❌ CrewAI import failed: {e}\")"
   ]
  },
  {
   "cell_type": "code",
   "execution_count": 5,
   "id": "f75926e4",
   "metadata": {},
   "outputs": [
    {
     "name": "stdout",
     "output_type": "stream",
     "text": [
      "✅ CrewAI objects created successfully!\n",
      "Setup is working! 🎉\n"
     ]
    }
   ],
   "source": [
    "# Cell 2: Fixed CrewAI test\n",
    "from crewai import Agent, Task, Crew\n",
    "\n",
    "# Simple agent banao\n",
    "test_agent = Agent(\n",
    "    role='Test Agent',\n",
    "    goal='Test if CrewAI is working',\n",
    "    backstory='I am a test agent to verify CrewAI setup',\n",
    "    verbose=True,\n",
    "    allow_delegation=False\n",
    ")\n",
    "\n",
    "# Simple task banao (with expected_output added)\n",
    "test_task = Task(\n",
    "    description='Say \"Hello from CrewAI!\"',\n",
    "    expected_output='A greeting message from CrewAI',  # ← Ye line missing thi!\n",
    "    agent=test_agent\n",
    ")\n",
    "\n",
    "# Crew banao\n",
    "test_crew = Crew(\n",
    "    agents=[test_agent],\n",
    "    tasks=[test_task],\n",
    "    verbose=True\n",
    ")\n",
    "\n",
    "print(\"✅ CrewAI objects created successfully!\")\n",
    "print(\"Setup is working! 🎉\")"
   ]
  },
  {
   "cell_type": "code",
   "execution_count": 6,
   "id": "a2d4d422",
   "metadata": {},
   "outputs": [
    {
     "name": "stdout",
     "output_type": "stream",
     "text": [
      "✅ News Summary Crew created successfully!\n",
      "Ready for your AI News Summary project! 🚀\n"
     ]
    }
   ],
   "source": [
    "# Cell 3: News Summary Agent Test\n",
    "from crewai import Agent, Task, Crew\n",
    "\n",
    "# News Researcher Agent\n",
    "news_researcher = Agent(\n",
    "    role='News Researcher',\n",
    "    goal='Find and gather relevant news articles',\n",
    "    backstory='You are an expert at finding trending and important news',\n",
    "    verbose=True,\n",
    "    allow_delegation=False\n",
    ")\n",
    "\n",
    "# News Summarizer Agent  \n",
    "news_summarizer = Agent(\n",
    "    role='News Summarizer',\n",
    "    goal='Create concise and informative news summaries',\n",
    "    backstory='You excel at distilling complex news into clear summaries',\n",
    "    verbose=True,\n",
    "    allow_delegation=False\n",
    ")\n",
    "\n",
    "# Research Task\n",
    "research_task = Task(\n",
    "    description='Research latest technology news trends',\n",
    "    expected_output='A list of current technology news topics',\n",
    "    agent=news_researcher\n",
    ")\n",
    "\n",
    "# Summary Task\n",
    "summary_task = Task(\n",
    "    description='Summarize the researched news into key points',\n",
    "    expected_output='A structured summary of technology news',\n",
    "    agent=news_summarizer\n",
    ")\n",
    "\n",
    "# News Crew\n",
    "news_crew = Crew(\n",
    "    agents=[news_researcher, news_summarizer],\n",
    "    tasks=[research_task, summary_task],\n",
    "    verbose=True\n",
    ")\n",
    "\n",
    "print(\"✅ News Summary Crew created successfully!\")\n",
    "print(\"Ready for your AI News Summary project! 🚀\")"
   ]
  },
  {
   "cell_type": "code",
   "execution_count": 7,
   "id": "296f4bd2",
   "metadata": {},
   "outputs": [
    {
     "name": "stdout",
     "output_type": "stream",
     "text": [
      "✅ OpenAI API Key loaded successfully!\n",
      "Key starts with: sk-proj-OH...\n",
      "✅ Tavily API Key loaded successfully!\n",
      "Key starts with: tvly-dev-l...\n",
      "\n",
      "Environment setup complete! 🚀\n"
     ]
    }
   ],
   "source": [
    "# Cell 4: API Keys Test\n",
    "import os\n",
    "from dotenv import load_dotenv\n",
    "\n",
    "# Load environment variables\n",
    "load_dotenv()\n",
    "\n",
    "# Check API keys\n",
    "openai_key = os.getenv('OPENAI_API_KEY')\n",
    "tavily_key = os.getenv('TAVILY_API_KEY')\n",
    "\n",
    "if openai_key:\n",
    "    print(\"✅ OpenAI API Key loaded successfully!\")\n",
    "    print(f\"Key starts with: {openai_key[:10]}...\")\n",
    "else:\n",
    "    print(\"❌ OpenAI API Key not found!\")\n",
    "\n",
    "if tavily_key:\n",
    "    print(\"✅ Tavily API Key loaded successfully!\")\n",
    "    print(f\"Key starts with: {tavily_key[:10]}...\")\n",
    "else:\n",
    "    print(\"❌ Tavily API Key not found!\")\n",
    "\n",
    "print(\"\\nEnvironment setup complete! 🚀\")"
   ]
  },
  {
   "cell_type": "code",
   "execution_count": 10,
   "id": "ff9020d0",
   "metadata": {},
   "outputs": [
    {
     "name": "stdout",
     "output_type": "stream",
     "text": [
      "✅ Tavily search working!\n",
      "Found 5 results\n",
      "✅ Tools setup complete!\n",
      "Ready for advanced news processing! 🔥\n"
     ]
    }
   ],
   "source": [
    "# Cell 5: Advanced News Summary with Tavily Tool (Fixed)\n",
    "from crewai import Agent, Task, Crew\n",
    "import os\n",
    "from dotenv import load_dotenv\n",
    "\n",
    "# Load environment\n",
    "load_dotenv()\n",
    "\n",
    "# Simple Tavily search function\n",
    "def search_news(query):\n",
    "    \"\"\"Simple news search using Tavily\"\"\"\n",
    "    try:\n",
    "        from tavily import TavilyClient\n",
    "        client = TavilyClient(api_key=os.getenv('TAVILY_API_KEY'))\n",
    "        response = client.search(query=query, max_results=5)\n",
    "        return response.get('results', [])\n",
    "    except Exception as e:\n",
    "        return f\"Search failed: {e}\"\n",
    "\n",
    "# Test the search function\n",
    "test_search = search_news(\"latest technology news\")\n",
    "if isinstance(test_search, list):\n",
    "    print(\"✅ Tavily search working!\")\n",
    "    print(f\"Found {len(test_search)} results\")\n",
    "else:\n",
    "    print(f\"⚠️ Search issue: {test_search}\")\n",
    "\n",
    "print(\"✅ Tools setup complete!\")\n",
    "print(\"Ready for advanced news processing! 🔥\")"
   ]
  },
  {
   "cell_type": "code",
   "execution_count": 11,
   "id": "60f2b2fe",
   "metadata": {},
   "outputs": [
    {
     "name": "stdout",
     "output_type": "stream",
     "text": [
      "✅ Advanced AI News Crew created with LLM integration!\n",
      "All agents configured with GPT-3.5-turbo! 🤖\n"
     ]
    }
   ],
   "source": [
    "# Cell 6: Complete AI News Summary Crew\n",
    "from crewai import Agent, Task, Crew, LLM\n",
    "\n",
    "# Configure LLM\n",
    "llm = LLM(\n",
    "    model=\"gpt-3.5-turbo\",\n",
    "    api_key=os.getenv('OPENAI_API_KEY')\n",
    ")\n",
    "\n",
    "# Advanced News Researcher Agent\n",
    "news_researcher = Agent(\n",
    "    role='Senior News Researcher',\n",
    "    goal='Find the most relevant and recent news articles on given topics',\n",
    "    backstory='''You are a seasoned news researcher with expertise in identifying \n",
    "    trending topics and gathering comprehensive information from reliable sources.''',\n",
    "    verbose=True,\n",
    "    allow_delegation=False,\n",
    "    llm=llm\n",
    ")\n",
    "\n",
    "# News Analyzer Agent\n",
    "news_analyzer = Agent(\n",
    "    role='News Content Analyzer',\n",
    "    goal='Analyze news content for key insights and important details',\n",
    "    backstory='''You are an expert at analyzing news content, extracting key facts,\n",
    "    and identifying the most important information for summaries.''',\n",
    "    verbose=True,\n",
    "    allow_delegation=False,\n",
    "    llm=llm\n",
    ")\n",
    "\n",
    "# News Summarizer Agent\n",
    "news_summarizer = Agent(\n",
    "    role='Professional News Summarizer',\n",
    "    goal='Create engaging and concise news summaries',\n",
    "    backstory='''You are a professional journalist who excels at creating \n",
    "    clear, engaging summaries that capture the essence of news stories.''',\n",
    "    verbose=True,\n",
    "    allow_delegation=False,\n",
    "    llm=llm\n",
    ")\n",
    "\n",
    "print(\"✅ Advanced AI News Crew created with LLM integration!\")\n",
    "print(\"All agents configured with GPT-3.5-turbo! 🤖\")"
   ]
  },
  {
   "cell_type": "code",
   "execution_count": 12,
   "id": "401fd398",
   "metadata": {},
   "outputs": [
    {
     "name": "stdout",
     "output_type": "stream",
     "text": [
      "✅ All tasks defined successfully!\n",
      "Research → Analysis → Summary pipeline ready! 📰\n"
     ]
    }
   ],
   "source": [
    "# Cell 7: Create Tasks with Search Integration\n",
    "from crewai import Task\n",
    "\n",
    "# Research Task with Tavily search\n",
    "research_task = Task(\n",
    "    description='''Search for the latest technology news using available tools.\n",
    "    Focus on AI, machine learning, and tech industry developments.\n",
    "    Gather at least 3-5 recent news articles with their key details.''',\n",
    "    expected_output='''A comprehensive list of recent technology news articles \n",
    "    with titles, sources, and brief descriptions of each article.''',\n",
    "    agent=news_researcher\n",
    ")\n",
    "\n",
    "# Analysis Task\n",
    "analysis_task = Task(\n",
    "    description='''Analyze the researched news articles and extract:\n",
    "    1. Main themes and trends\n",
    "    2. Key facts and figures\n",
    "    3. Important quotes or statements\n",
    "    4. Impact and significance of each news item''',\n",
    "    expected_output='''A detailed analysis report highlighting key insights,\n",
    "    trends, and important information from the news articles.''',\n",
    "    agent=news_analyzer\n",
    ")\n",
    "\n",
    "# Summary Task\n",
    "summary_task = Task(\n",
    "    description='''Create a final news summary that includes:\n",
    "    1. Top 3 most important news items\n",
    "    2. Brief summary of each item (2-3 sentences)\n",
    "    3. Overall industry trends\n",
    "    4. Formatted in a clean, readable structure''',\n",
    "    expected_output='''A professional news summary document with clear headings,\n",
    "    concise summaries, and key takeaways formatted for easy reading.''',\n",
    "    agent=news_summarizer\n",
    ")\n",
    "\n",
    "print(\"✅ All tasks defined successfully!\")\n",
    "print(\"Research → Analysis → Summary pipeline ready! 📰\")"
   ]
  },
  {
   "cell_type": "code",
   "execution_count": 13,
   "id": "2781623f",
   "metadata": {},
   "outputs": [
    {
     "name": "stdout",
     "output_type": "stream",
     "text": [
      "🚀 AI News Summary Crew assembled successfully!\n",
      "\n",
      "Crew Configuration:\n",
      "👥 Agents: 3\n",
      "📋 Tasks: 3\n",
      "\n",
      "Ready to generate news summaries! 🎯\n"
     ]
    }
   ],
   "source": [
    "# Cell 8: Assemble the Complete News Crew\n",
    "# Create the News Summary Crew\n",
    "news_summary_crew = Crew(\n",
    "    agents=[news_researcher, news_analyzer, news_summarizer],\n",
    "    tasks=[research_task, analysis_task, summary_task],\n",
    "    verbose=True,\n",
    "    memory=True  # Enable memory for better task coordination\n",
    ")\n",
    "\n",
    "print(\"🚀 AI News Summary Crew assembled successfully!\")\n",
    "print(\"\\nCrew Configuration:\")\n",
    "print(f\"👥 Agents: {len(news_summary_crew.agents)}\")\n",
    "print(f\"📋 Tasks: {len(news_summary_crew.tasks)}\")\n",
    "print(\"\\nReady to generate news summaries! 🎯\")"
   ]
  },
  {
   "cell_type": "code",
   "execution_count": 14,
   "id": "e21a0623",
   "metadata": {},
   "outputs": [
    {
     "name": "stdout",
     "output_type": "stream",
     "text": [
      "🚀 Starting AI News Summary Generation...\n",
      "This may take 1-2 minutes as agents work through the pipeline...\n",
      "------------------------------------------------------------\n"
     ]
    },
    {
     "data": {
      "text/html": [
       "<pre style=\"white-space:pre;overflow-x:auto;line-height:normal;font-family:Menlo,'DejaVu Sans Mono',consolas,'Courier New',monospace\"><span style=\"color: #008080; text-decoration-color: #008080\">╭──────────────────────────────────────────── Crew Execution Started ─────────────────────────────────────────────╮</span>\n",
       "<span style=\"color: #008080; text-decoration-color: #008080\">│</span>                                                                                                                 <span style=\"color: #008080; text-decoration-color: #008080\">│</span>\n",
       "<span style=\"color: #008080; text-decoration-color: #008080\">│</span>  <span style=\"color: #008080; text-decoration-color: #008080; font-weight: bold\">Crew Execution Started</span>                                                                                         <span style=\"color: #008080; text-decoration-color: #008080\">│</span>\n",
       "<span style=\"color: #008080; text-decoration-color: #008080\">│</span>  <span style=\"color: #c0c0c0; text-decoration-color: #c0c0c0\">Name: </span><span style=\"color: #008080; text-decoration-color: #008080\">crew</span>                                                                                                     <span style=\"color: #008080; text-decoration-color: #008080\">│</span>\n",
       "<span style=\"color: #008080; text-decoration-color: #008080\">│</span>  <span style=\"color: #c0c0c0; text-decoration-color: #c0c0c0\">ID: </span><span style=\"color: #008080; text-decoration-color: #008080\">110f15bd-36b2-4d61-89f2-75e5c76cf82a</span>                                                                       <span style=\"color: #008080; text-decoration-color: #008080\">│</span>\n",
       "<span style=\"color: #008080; text-decoration-color: #008080\">│</span>  <span style=\"color: #c0c0c0; text-decoration-color: #c0c0c0\">Tool Args: </span>                                                                                                    <span style=\"color: #008080; text-decoration-color: #008080\">│</span>\n",
       "<span style=\"color: #008080; text-decoration-color: #008080\">│</span>                                                                                                                 <span style=\"color: #008080; text-decoration-color: #008080\">│</span>\n",
       "<span style=\"color: #008080; text-decoration-color: #008080\">│</span>                                                                                                                 <span style=\"color: #008080; text-decoration-color: #008080\">│</span>\n",
       "<span style=\"color: #008080; text-decoration-color: #008080\">╰─────────────────────────────────────────────────────────────────────────────────────────────────────────────────╯</span>\n",
       "</pre>\n"
      ],
      "text/plain": [
       "\u001b[36m╭─\u001b[0m\u001b[36m───────────────────────────────────────────\u001b[0m\u001b[36m Crew Execution Started \u001b[0m\u001b[36m────────────────────────────────────────────\u001b[0m\u001b[36m─╮\u001b[0m\n",
       "\u001b[36m│\u001b[0m                                                                                                                 \u001b[36m│\u001b[0m\n",
       "\u001b[36m│\u001b[0m  \u001b[1;36mCrew Execution Started\u001b[0m                                                                                         \u001b[36m│\u001b[0m\n",
       "\u001b[36m│\u001b[0m  \u001b[37mName: \u001b[0m\u001b[36mcrew\u001b[0m                                                                                                     \u001b[36m│\u001b[0m\n",
       "\u001b[36m│\u001b[0m  \u001b[37mID: \u001b[0m\u001b[36m110f15bd-36b2-4d61-89f2-75e5c76cf82a\u001b[0m                                                                       \u001b[36m│\u001b[0m\n",
       "\u001b[36m│\u001b[0m  \u001b[37mTool Args: \u001b[0m                                                                                                    \u001b[36m│\u001b[0m\n",
       "\u001b[36m│\u001b[0m                                                                                                                 \u001b[36m│\u001b[0m\n",
       "\u001b[36m│\u001b[0m                                                                                                                 \u001b[36m│\u001b[0m\n",
       "\u001b[36m╰─────────────────────────────────────────────────────────────────────────────────────────────────────────────────╯\u001b[0m\n"
      ]
     },
     "metadata": {},
     "output_type": "display_data"
    },
    {
     "data": {
      "text/html": [
       "<pre style=\"white-space:pre;overflow-x:auto;line-height:normal;font-family:Menlo,'DejaVu Sans Mono',consolas,'Courier New',monospace\">\n",
       "</pre>\n"
      ],
      "text/plain": [
       "\n"
      ]
     },
     "metadata": {},
     "output_type": "display_data"
    },
    {
     "data": {
      "application/vnd.jupyter.widget-view+json": {
       "model_id": "c878e6b0f2f54cb4b6d4f2b36f6ac7f3",
       "version_major": 2,
       "version_minor": 0
      },
      "text/plain": [
       "Output()"
      ]
     },
     "metadata": {},
     "output_type": "display_data"
    },
    {
     "name": "stderr",
     "output_type": "stream",
     "text": [
      "ERROR:root:Error during short_term search: Error code: 429 - {'error': {'message': 'You exceeded your current quota, please check your plan and billing details. For more information on this error, read the docs: https://platform.openai.com/docs/guides/error-codes/api-errors.', 'type': 'insufficient_quota', 'param': None, 'code': 'insufficient_quota'}} in query.\n"
     ]
    },
    {
     "name": "stderr",
     "output_type": "stream",
     "text": [
      "ERROR:root:Error during entities search: Error code: 429 - {'error': {'message': 'You exceeded your current quota, please check your plan and billing details. For more information on this error, read the docs: https://platform.openai.com/docs/guides/error-codes/api-errors.', 'type': 'insufficient_quota', 'param': None, 'code': 'insufficient_quota'}} in query.\n"
     ]
    },
    {
     "data": {
      "text/html": [
       "<pre style=\"white-space:pre;overflow-x:auto;line-height:normal;font-family:Menlo,'DejaVu Sans Mono',consolas,'Courier New',monospace\"></pre>\n"
      ],
      "text/plain": []
     },
     "metadata": {},
     "output_type": "display_data"
    },
    {
     "data": {
      "text/html": [
       "<pre style=\"white-space:pre;overflow-x:auto;line-height:normal;font-family:Menlo,'DejaVu Sans Mono',consolas,'Courier New',monospace\"><span style=\"color: #800080; text-decoration-color: #800080\">╭─────────────────────────────────────────────── 🤖 Agent Started ────────────────────────────────────────────────╮</span>\n",
       "<span style=\"color: #800080; text-decoration-color: #800080\">│</span>                                                                                                                 <span style=\"color: #800080; text-decoration-color: #800080\">│</span>\n",
       "<span style=\"color: #800080; text-decoration-color: #800080\">│</span>  <span style=\"color: #c0c0c0; text-decoration-color: #c0c0c0\">Agent: </span><span style=\"color: #00ff00; text-decoration-color: #00ff00; font-weight: bold\">Senior News Researcher</span>                                                                                  <span style=\"color: #800080; text-decoration-color: #800080\">│</span>\n",
       "<span style=\"color: #800080; text-decoration-color: #800080\">│</span>                                                                                                                 <span style=\"color: #800080; text-decoration-color: #800080\">│</span>\n",
       "<span style=\"color: #800080; text-decoration-color: #800080\">│</span>  <span style=\"color: #c0c0c0; text-decoration-color: #c0c0c0\">Task: </span><span style=\"color: #00ff00; text-decoration-color: #00ff00\">Search for the latest technology news using available tools.</span>                                             <span style=\"color: #800080; text-decoration-color: #800080\">│</span>\n",
       "<span style=\"color: #800080; text-decoration-color: #800080\">│</span>  <span style=\"color: #00ff00; text-decoration-color: #00ff00\">    Focus on AI, machine learning, and tech industry developments.</span>                                             <span style=\"color: #800080; text-decoration-color: #800080\">│</span>\n",
       "<span style=\"color: #800080; text-decoration-color: #800080\">│</span>  <span style=\"color: #00ff00; text-decoration-color: #00ff00\">    Gather at least 3-5 recent news articles with their key details.</span>                                           <span style=\"color: #800080; text-decoration-color: #800080\">│</span>\n",
       "<span style=\"color: #800080; text-decoration-color: #800080\">│</span>                                                                                                                 <span style=\"color: #800080; text-decoration-color: #800080\">│</span>\n",
       "<span style=\"color: #800080; text-decoration-color: #800080\">╰─────────────────────────────────────────────────────────────────────────────────────────────────────────────────╯</span>\n",
       "</pre>\n"
      ],
      "text/plain": [
       "\u001b[35m╭─\u001b[0m\u001b[35m──────────────────────────────────────────────\u001b[0m\u001b[35m 🤖 Agent Started \u001b[0m\u001b[35m───────────────────────────────────────────────\u001b[0m\u001b[35m─╮\u001b[0m\n",
       "\u001b[35m│\u001b[0m                                                                                                                 \u001b[35m│\u001b[0m\n",
       "\u001b[35m│\u001b[0m  \u001b[37mAgent: \u001b[0m\u001b[1;92mSenior News Researcher\u001b[0m                                                                                  \u001b[35m│\u001b[0m\n",
       "\u001b[35m│\u001b[0m                                                                                                                 \u001b[35m│\u001b[0m\n",
       "\u001b[35m│\u001b[0m  \u001b[37mTask: \u001b[0m\u001b[92mSearch for the latest technology news using available tools.\u001b[0m                                             \u001b[35m│\u001b[0m\n",
       "\u001b[35m│\u001b[0m  \u001b[92m    Focus on AI, machine learning, and tech industry developments.\u001b[0m                                             \u001b[35m│\u001b[0m\n",
       "\u001b[35m│\u001b[0m  \u001b[92m    Gather at least 3-5 recent news articles with their key details.\u001b[0m                                           \u001b[35m│\u001b[0m\n",
       "\u001b[35m│\u001b[0m                                                                                                                 \u001b[35m│\u001b[0m\n",
       "\u001b[35m╰─────────────────────────────────────────────────────────────────────────────────────────────────────────────────╯\u001b[0m\n"
      ]
     },
     "metadata": {},
     "output_type": "display_data"
    },
    {
     "data": {
      "text/html": [
       "<pre style=\"white-space:pre;overflow-x:auto;line-height:normal;font-family:Menlo,'DejaVu Sans Mono',consolas,'Courier New',monospace\">\n",
       "</pre>\n"
      ],
      "text/plain": [
       "\n"
      ]
     },
     "metadata": {},
     "output_type": "display_data"
    },
    {
     "data": {
      "application/vnd.jupyter.widget-view+json": {
       "model_id": "ebd5dfe89b364c2fa63c639a01cb4a25",
       "version_major": 2,
       "version_minor": 0
      },
      "text/plain": [
       "Output()"
      ]
     },
     "metadata": {},
     "output_type": "display_data"
    },
    {
     "data": {
      "text/html": [
       "<pre style=\"white-space:pre;overflow-x:auto;line-height:normal;font-family:Menlo,'DejaVu Sans Mono',consolas,'Courier New',monospace\"></pre>\n"
      ],
      "text/plain": []
     },
     "metadata": {},
     "output_type": "display_data"
    },
    {
     "data": {
      "text/html": [
       "<pre style=\"white-space:pre;overflow-x:auto;line-height:normal;font-family:Menlo,'DejaVu Sans Mono',consolas,'Courier New',monospace\"><span style=\"color: #800000; text-decoration-color: #800000\">╭─────────────────────────────────────────────────── LLM Error ───────────────────────────────────────────────────╮</span>\n",
       "<span style=\"color: #800000; text-decoration-color: #800000\">│</span>                                                                                                                 <span style=\"color: #800000; text-decoration-color: #800000\">│</span>\n",
       "<span style=\"color: #800000; text-decoration-color: #800000\">│</span>  <span style=\"color: #800000; text-decoration-color: #800000; font-weight: bold\">❌ LLM Call Failed</span>                                                                                             <span style=\"color: #800000; text-decoration-color: #800000\">│</span>\n",
       "<span style=\"color: #800000; text-decoration-color: #800000\">│</span>  <span style=\"color: #c0c0c0; text-decoration-color: #c0c0c0\">Error: </span><span style=\"color: #800000; text-decoration-color: #800000\">litellm.RateLimitError: RateLimitError: OpenAIException - You exceeded your current quota, please </span>      <span style=\"color: #800000; text-decoration-color: #800000\">│</span>\n",
       "<span style=\"color: #800000; text-decoration-color: #800000\">│</span>  <span style=\"color: #800000; text-decoration-color: #800000\">check your plan and billing details. For more information on this error, read the docs: </span>                       <span style=\"color: #800000; text-decoration-color: #800000\">│</span>\n",
       "<span style=\"color: #800000; text-decoration-color: #800000\">│</span>  <span style=\"color: #800000; text-decoration-color: #800000\">https://platform.openai.com/docs/guides/error-codes/api-errors.</span>                                                <span style=\"color: #800000; text-decoration-color: #800000\">│</span>\n",
       "<span style=\"color: #800000; text-decoration-color: #800000\">│</span>                                                                                                                 <span style=\"color: #800000; text-decoration-color: #800000\">│</span>\n",
       "<span style=\"color: #800000; text-decoration-color: #800000\">╰─────────────────────────────────────────────────────────────────────────────────────────────────────────────────╯</span>\n",
       "</pre>\n"
      ],
      "text/plain": [
       "\u001b[31m╭─\u001b[0m\u001b[31m──────────────────────────────────────────────────\u001b[0m\u001b[31m LLM Error \u001b[0m\u001b[31m──────────────────────────────────────────────────\u001b[0m\u001b[31m─╮\u001b[0m\n",
       "\u001b[31m│\u001b[0m                                                                                                                 \u001b[31m│\u001b[0m\n",
       "\u001b[31m│\u001b[0m  \u001b[1;31m❌ LLM Call Failed\u001b[0m                                                                                             \u001b[31m│\u001b[0m\n",
       "\u001b[31m│\u001b[0m  \u001b[37mError: \u001b[0m\u001b[31mlitellm.RateLimitError: RateLimitError: OpenAIException - You exceeded your current quota, please \u001b[0m      \u001b[31m│\u001b[0m\n",
       "\u001b[31m│\u001b[0m  \u001b[31mcheck your plan and billing details. For more information on this error, read the docs: \u001b[0m                       \u001b[31m│\u001b[0m\n",
       "\u001b[31m│\u001b[0m  \u001b[31mhttps://platform.openai.com/docs/guides/error-codes/api-errors.\u001b[0m                                                \u001b[31m│\u001b[0m\n",
       "\u001b[31m│\u001b[0m                                                                                                                 \u001b[31m│\u001b[0m\n",
       "\u001b[31m╰─────────────────────────────────────────────────────────────────────────────────────────────────────────────────╯\u001b[0m\n"
      ]
     },
     "metadata": {},
     "output_type": "display_data"
    },
    {
     "data": {
      "text/html": [
       "<pre style=\"white-space:pre;overflow-x:auto;line-height:normal;font-family:Menlo,'DejaVu Sans Mono',consolas,'Courier New',monospace\">\n",
       "</pre>\n"
      ],
      "text/plain": [
       "\n"
      ]
     },
     "metadata": {},
     "output_type": "display_data"
    },
    {
     "data": {
      "text/html": [
       "<pre style=\"white-space:pre;overflow-x:auto;line-height:normal;font-family:Menlo,'DejaVu Sans Mono',consolas,'Courier New',monospace\"></pre>\n"
      ],
      "text/plain": []
     },
     "metadata": {},
     "output_type": "display_data"
    },
    {
     "data": {
      "text/html": [
       "<pre style=\"white-space:pre;overflow-x:auto;line-height:normal;font-family:Menlo,'DejaVu Sans Mono',consolas,'Courier New',monospace\"><span style=\"color: #800000; text-decoration-color: #800000\">╭───────────────────────────────────────────────── Task Failure ──────────────────────────────────────────────────╮</span>\n",
       "<span style=\"color: #800000; text-decoration-color: #800000\">│</span>                                                                                                                 <span style=\"color: #800000; text-decoration-color: #800000\">│</span>\n",
       "<span style=\"color: #800000; text-decoration-color: #800000\">│</span>  <span style=\"color: #800000; text-decoration-color: #800000; font-weight: bold\">Task Failed</span>                                                                                                    <span style=\"color: #800000; text-decoration-color: #800000\">│</span>\n",
       "<span style=\"color: #800000; text-decoration-color: #800000\">│</span>  <span style=\"color: #c0c0c0; text-decoration-color: #c0c0c0\">Name: </span><span style=\"color: #800000; text-decoration-color: #800000\">6befcc2c-761c-4860-bcf3-3ca0934d18c4</span>                                                                     <span style=\"color: #800000; text-decoration-color: #800000\">│</span>\n",
       "<span style=\"color: #800000; text-decoration-color: #800000\">│</span>  <span style=\"color: #c0c0c0; text-decoration-color: #c0c0c0\">Agent: </span><span style=\"color: #800000; text-decoration-color: #800000\">Senior News Researcher</span>                                                                                  <span style=\"color: #800000; text-decoration-color: #800000\">│</span>\n",
       "<span style=\"color: #800000; text-decoration-color: #800000\">│</span>  <span style=\"color: #c0c0c0; text-decoration-color: #c0c0c0\">Tool Args: </span>                                                                                                    <span style=\"color: #800000; text-decoration-color: #800000\">│</span>\n",
       "<span style=\"color: #800000; text-decoration-color: #800000\">│</span>                                                                                                                 <span style=\"color: #800000; text-decoration-color: #800000\">│</span>\n",
       "<span style=\"color: #800000; text-decoration-color: #800000\">│</span>                                                                                                                 <span style=\"color: #800000; text-decoration-color: #800000\">│</span>\n",
       "<span style=\"color: #800000; text-decoration-color: #800000\">╰─────────────────────────────────────────────────────────────────────────────────────────────────────────────────╯</span>\n",
       "</pre>\n"
      ],
      "text/plain": [
       "\u001b[31m╭─\u001b[0m\u001b[31m────────────────────────────────────────────────\u001b[0m\u001b[31m Task Failure \u001b[0m\u001b[31m─────────────────────────────────────────────────\u001b[0m\u001b[31m─╮\u001b[0m\n",
       "\u001b[31m│\u001b[0m                                                                                                                 \u001b[31m│\u001b[0m\n",
       "\u001b[31m│\u001b[0m  \u001b[1;31mTask Failed\u001b[0m                                                                                                    \u001b[31m│\u001b[0m\n",
       "\u001b[31m│\u001b[0m  \u001b[37mName: \u001b[0m\u001b[31m6befcc2c-761c-4860-bcf3-3ca0934d18c4\u001b[0m                                                                     \u001b[31m│\u001b[0m\n",
       "\u001b[31m│\u001b[0m  \u001b[37mAgent: \u001b[0m\u001b[31mSenior News Researcher\u001b[0m                                                                                  \u001b[31m│\u001b[0m\n",
       "\u001b[31m│\u001b[0m  \u001b[37mTool Args: \u001b[0m                                                                                                    \u001b[31m│\u001b[0m\n",
       "\u001b[31m│\u001b[0m                                                                                                                 \u001b[31m│\u001b[0m\n",
       "\u001b[31m│\u001b[0m                                                                                                                 \u001b[31m│\u001b[0m\n",
       "\u001b[31m╰─────────────────────────────────────────────────────────────────────────────────────────────────────────────────╯\u001b[0m\n"
      ]
     },
     "metadata": {},
     "output_type": "display_data"
    },
    {
     "data": {
      "text/html": [
       "<pre style=\"white-space:pre;overflow-x:auto;line-height:normal;font-family:Menlo,'DejaVu Sans Mono',consolas,'Courier New',monospace\">\n",
       "</pre>\n"
      ],
      "text/plain": [
       "\n"
      ]
     },
     "metadata": {},
     "output_type": "display_data"
    },
    {
     "data": {
      "text/html": [
       "<pre style=\"white-space:pre;overflow-x:auto;line-height:normal;font-family:Menlo,'DejaVu Sans Mono',consolas,'Courier New',monospace\"><span style=\"color: #800000; text-decoration-color: #800000\">╭───────────────────────────────────────────────── Crew Failure ──────────────────────────────────────────────────╮</span>\n",
       "<span style=\"color: #800000; text-decoration-color: #800000\">│</span>                                                                                                                 <span style=\"color: #800000; text-decoration-color: #800000\">│</span>\n",
       "<span style=\"color: #800000; text-decoration-color: #800000\">│</span>  <span style=\"color: #800000; text-decoration-color: #800000; font-weight: bold\">Crew Execution Failed</span>                                                                                          <span style=\"color: #800000; text-decoration-color: #800000\">│</span>\n",
       "<span style=\"color: #800000; text-decoration-color: #800000\">│</span>  <span style=\"color: #c0c0c0; text-decoration-color: #c0c0c0\">Name: </span><span style=\"color: #800000; text-decoration-color: #800000\">crew</span>                                                                                                     <span style=\"color: #800000; text-decoration-color: #800000\">│</span>\n",
       "<span style=\"color: #800000; text-decoration-color: #800000\">│</span>  <span style=\"color: #c0c0c0; text-decoration-color: #c0c0c0\">ID: </span><span style=\"color: #800000; text-decoration-color: #800000\">110f15bd-36b2-4d61-89f2-75e5c76cf82a</span>                                                                       <span style=\"color: #800000; text-decoration-color: #800000\">│</span>\n",
       "<span style=\"color: #800000; text-decoration-color: #800000\">│</span>  <span style=\"color: #c0c0c0; text-decoration-color: #c0c0c0\">Tool Args: </span>                                                                                                    <span style=\"color: #800000; text-decoration-color: #800000\">│</span>\n",
       "<span style=\"color: #800000; text-decoration-color: #800000\">│</span>  <span style=\"color: #c0c0c0; text-decoration-color: #c0c0c0\">Final Output: </span>                                                                                                 <span style=\"color: #800000; text-decoration-color: #800000\">│</span>\n",
       "<span style=\"color: #800000; text-decoration-color: #800000\">│</span>                                                                                                                 <span style=\"color: #800000; text-decoration-color: #800000\">│</span>\n",
       "<span style=\"color: #800000; text-decoration-color: #800000\">│</span>                                                                                                                 <span style=\"color: #800000; text-decoration-color: #800000\">│</span>\n",
       "<span style=\"color: #800000; text-decoration-color: #800000\">╰─────────────────────────────────────────────────────────────────────────────────────────────────────────────────╯</span>\n",
       "</pre>\n"
      ],
      "text/plain": [
       "\u001b[31m╭─\u001b[0m\u001b[31m────────────────────────────────────────────────\u001b[0m\u001b[31m Crew Failure \u001b[0m\u001b[31m─────────────────────────────────────────────────\u001b[0m\u001b[31m─╮\u001b[0m\n",
       "\u001b[31m│\u001b[0m                                                                                                                 \u001b[31m│\u001b[0m\n",
       "\u001b[31m│\u001b[0m  \u001b[1;31mCrew Execution Failed\u001b[0m                                                                                          \u001b[31m│\u001b[0m\n",
       "\u001b[31m│\u001b[0m  \u001b[37mName: \u001b[0m\u001b[31mcrew\u001b[0m                                                                                                     \u001b[31m│\u001b[0m\n",
       "\u001b[31m│\u001b[0m  \u001b[37mID: \u001b[0m\u001b[31m110f15bd-36b2-4d61-89f2-75e5c76cf82a\u001b[0m                                                                       \u001b[31m│\u001b[0m\n",
       "\u001b[31m│\u001b[0m  \u001b[37mTool Args: \u001b[0m                                                                                                    \u001b[31m│\u001b[0m\n",
       "\u001b[31m│\u001b[0m  \u001b[37mFinal Output: \u001b[0m                                                                                                 \u001b[31m│\u001b[0m\n",
       "\u001b[31m│\u001b[0m                                                                                                                 \u001b[31m│\u001b[0m\n",
       "\u001b[31m│\u001b[0m                                                                                                                 \u001b[31m│\u001b[0m\n",
       "\u001b[31m╰─────────────────────────────────────────────────────────────────────────────────────────────────────────────────╯\u001b[0m\n"
      ]
     },
     "metadata": {},
     "output_type": "display_data"
    },
    {
     "data": {
      "text/html": [
       "<pre style=\"white-space:pre;overflow-x:auto;line-height:normal;font-family:Menlo,'DejaVu Sans Mono',consolas,'Courier New',monospace\">\n",
       "</pre>\n"
      ],
      "text/plain": [
       "\n"
      ]
     },
     "metadata": {},
     "output_type": "display_data"
    },
    {
     "name": "stdout",
     "output_type": "stream",
     "text": [
      "❌ Error during execution: litellm.RateLimitError: RateLimitError: OpenAIException - You exceeded your current quota, please check your plan and billing details. For more information on this error, read the docs: https://platform.openai.com/docs/guides/error-codes/api-errors.\n",
      "Don't worry - this is common during first runs!\n",
      "Let's debug this in the next step...\n"
     ]
    }
   ],
   "source": [
    "# Cell 9: Generate Your First AI News Summary\n",
    "print(\"🚀 Starting AI News Summary Generation...\")\n",
    "print(\"This may take 1-2 minutes as agents work through the pipeline...\")\n",
    "print(\"-\" * 60)\n",
    "\n",
    "try:\n",
    "    # Execute the crew to generate news summary\n",
    "    result = news_summary_crew.kickoff()\n",
    "    \n",
    "    print(\"\\n\" + \"=\"*60)\n",
    "    print(\"📰 AI NEWS SUMMARY GENERATED SUCCESSFULLY!\")\n",
    "    print(\"=\"*60)\n",
    "    print(result)\n",
    "    print(\"=\"*60)\n",
    "    print(\"✅ News summary generation completed!\")\n",
    "    \n",
    "except Exception as e:\n",
    "    print(f\"❌ Error during execution: {e}\")\n",
    "    print(\"Don't worry - this is common during first runs!\")\n",
    "    print(\"Let's debug this in the next step...\")"
   ]
  },
  {
   "cell_type": "code",
   "execution_count": 15,
   "id": "8e1ed643",
   "metadata": {},
   "outputs": [
    {
     "name": "stdout",
     "output_type": "stream",
     "text": [
      "🧪 Testing individual components...\n",
      "✅ Tavily search working!\n",
      "Found 3 articles\n"
     ]
    },
    {
     "data": {
      "text/html": [
       "<pre style=\"white-space:pre;overflow-x:auto;line-height:normal;font-family:Menlo,'DejaVu Sans Mono',consolas,'Courier New',monospace\"><span style=\"color: #800080; text-decoration-color: #800080\">╭─────────────────────────────────────────────── 🤖 Agent Started ────────────────────────────────────────────────╮</span>\n",
       "<span style=\"color: #800080; text-decoration-color: #800080\">│</span>                                                                                                                 <span style=\"color: #800080; text-decoration-color: #800080\">│</span>\n",
       "<span style=\"color: #800080; text-decoration-color: #800080\">│</span>  <span style=\"color: #c0c0c0; text-decoration-color: #c0c0c0\">Agent: </span><span style=\"color: #00ff00; text-decoration-color: #00ff00; font-weight: bold\">Senior News Researcher</span>                                                                                  <span style=\"color: #800080; text-decoration-color: #800080\">│</span>\n",
       "<span style=\"color: #800080; text-decoration-color: #800080\">│</span>                                                                                                                 <span style=\"color: #800080; text-decoration-color: #800080\">│</span>\n",
       "<span style=\"color: #800080; text-decoration-color: #800080\">│</span>  <span style=\"color: #c0c0c0; text-decoration-color: #c0c0c0\">Task: </span><span style=\"color: #00ff00; text-decoration-color: #00ff00\">Say hello and confirm you're working</span>                                                                     <span style=\"color: #800080; text-decoration-color: #800080\">│</span>\n",
       "<span style=\"color: #800080; text-decoration-color: #800080\">│</span>                                                                                                                 <span style=\"color: #800080; text-decoration-color: #800080\">│</span>\n",
       "<span style=\"color: #800080; text-decoration-color: #800080\">╰─────────────────────────────────────────────────────────────────────────────────────────────────────────────────╯</span>\n",
       "</pre>\n"
      ],
      "text/plain": [
       "\u001b[35m╭─\u001b[0m\u001b[35m──────────────────────────────────────────────\u001b[0m\u001b[35m 🤖 Agent Started \u001b[0m\u001b[35m───────────────────────────────────────────────\u001b[0m\u001b[35m─╮\u001b[0m\n",
       "\u001b[35m│\u001b[0m                                                                                                                 \u001b[35m│\u001b[0m\n",
       "\u001b[35m│\u001b[0m  \u001b[37mAgent: \u001b[0m\u001b[1;92mSenior News Researcher\u001b[0m                                                                                  \u001b[35m│\u001b[0m\n",
       "\u001b[35m│\u001b[0m                                                                                                                 \u001b[35m│\u001b[0m\n",
       "\u001b[35m│\u001b[0m  \u001b[37mTask: \u001b[0m\u001b[92mSay hello and confirm you're working\u001b[0m                                                                     \u001b[35m│\u001b[0m\n",
       "\u001b[35m│\u001b[0m                                                                                                                 \u001b[35m│\u001b[0m\n",
       "\u001b[35m╰─────────────────────────────────────────────────────────────────────────────────────────────────────────────────╯\u001b[0m\n"
      ]
     },
     "metadata": {},
     "output_type": "display_data"
    },
    {
     "data": {
      "text/html": [
       "<pre style=\"white-space:pre;overflow-x:auto;line-height:normal;font-family:Menlo,'DejaVu Sans Mono',consolas,'Courier New',monospace\">\n",
       "</pre>\n"
      ],
      "text/plain": [
       "\n"
      ]
     },
     "metadata": {},
     "output_type": "display_data"
    },
    {
     "name": "stdout",
     "output_type": "stream",
     "text": [
      "❌ LLM error: litellm.RateLimitError: RateLimitError: OpenAIException - You exceeded your current quota, please check your plan and billing details. For more information on this error, read the docs: https://platform.openai.com/docs/guides/error-codes/api-errors.\n"
     ]
    }
   ],
   "source": [
    "# Cell 10: Simple Test without Full Pipeline\n",
    "from tavily import TavilyClient\n",
    "\n",
    "# Test individual components\n",
    "print(\"🧪 Testing individual components...\")\n",
    "\n",
    "# Test 1: Tavily Search\n",
    "try:\n",
    "    client = TavilyClient(api_key=os.getenv('TAVILY_API_KEY'))\n",
    "    search_results = client.search(query=\"latest AI news\", max_results=3)\n",
    "    print(\"✅ Tavily search working!\")\n",
    "    print(f\"Found {len(search_results.get('results', []))} articles\")\n",
    "except Exception as e:\n",
    "    print(f\"❌ Tavily error: {e}\")\n",
    "\n",
    "# Test 2: OpenAI LLM\n",
    "try:\n",
    "    simple_task = Task(\n",
    "        description=\"Say hello and confirm you're working\",\n",
    "        expected_output=\"A simple greeting message\",\n",
    "        agent=news_researcher\n",
    "    )\n",
    "    \n",
    "    simple_crew = Crew(\n",
    "        agents=[news_researcher],\n",
    "        tasks=[simple_task]\n",
    "    )\n",
    "    \n",
    "    simple_result = simple_crew.kickoff()\n",
    "    print(\"✅ LLM working!\")\n",
    "    print(f\"Response: {simple_result}\")\n",
    "    \n",
    "except Exception as e:\n",
    "    print(f\"❌ LLM error: {e}\")"
   ]
  },
  {
   "cell_type": "code",
   "execution_count": 16,
   "id": "54b8ed0b",
   "metadata": {},
   "outputs": [
    {
     "name": "stdout",
     "output_type": "stream",
     "text": [
      "✅ Free LLM agent created successfully!\n",
      "Using CrewAI's default LLM configuration\n"
     ]
    }
   ],
   "source": [
    "# Cell 11: Setup with Free Alternative LLM (Ollama/Local)\n",
    "from crewai import Agent, Task, Crew\n",
    "import os\n",
    "from dotenv import load_dotenv\n",
    "\n",
    "load_dotenv()\n",
    "\n",
    "# Use Ollama (free local LLM) instead of OpenAI\n",
    "try:\n",
    "    # First try without specifying LLM (uses default/free options)\n",
    "    news_researcher_free = Agent(\n",
    "        role='Senior News Researcher',\n",
    "        goal='Find the most relevant and recent news articles on given topics',\n",
    "        backstory='You are a seasoned news researcher with expertise in identifying trending topics.',\n",
    "        verbose=True,\n",
    "        allow_delegation=False\n",
    "        # No LLM specified - will use default/free option\n",
    "    )\n",
    "    \n",
    "    print(\"✅ Free LLM agent created successfully!\")\n",
    "    print(\"Using CrewAI's default LLM configuration\")\n",
    "    \n",
    "except Exception as e:\n",
    "    print(f\"❌ Error: {e}\")"
   ]
  },
  {
   "cell_type": "code",
   "execution_count": 17,
   "id": "e2346ca8",
   "metadata": {},
   "outputs": [
    {
     "name": "stdout",
     "output_type": "stream",
     "text": [
      "🔍 Searching for latest technology news...\n",
      "\n",
      "📰 TECH NEWS SUMMARY\n",
      "==================================================\n",
      "\n",
      "1. Latest AI Breakthroughs and News: May, June, July 2025\n",
      "   🔗 Source: https://www.crescendo.ai/news/latest-ai-news-and-updates\n",
      "   📝 Summary: Summary: Google capped off 2024 with several major announcements showcasing its progress in artificial intelligence. Among the highlights were Gemini 2.0, a...\n",
      "   📅 Score: 0.7763013\n",
      "\n",
      "2. AI 2024 in review: The 10 most notable AI stories of the year\n",
      "   🔗 Source: https://iot-analytics.com/ai-2024-10-most-notable-stories/\n",
      "   📝 Summary: AI 2024: 1. Most notable AI-related cybersecurity story 2. Most impactful AI-related regulation 3. Most significant AI hardware development....\n",
      "   📅 Score: 0.559411\n",
      "\n",
      "3. AI News & Artificial Intelligence | TechCrunch\n",
      "   🔗 Source: https://techcrunch.com/category/artificial-intelligence/\n",
      "   📝 Summary: News coverage on artificial intelligence and machine learning tech, the companies building them, and the ethical issues AI raises today....\n",
      "   📅 Score: 0.3992968\n",
      "\n",
      "4. AI News | Latest AI News, Analysis & Events\n",
      "   🔗 Source: https://www.artificialintelligence-news.com/\n",
      "   📝 Summary: AI News reports on the latest artificial intelligence news and insights. Explore industry trends from the frontline of AI....\n",
      "   📅 Score: 0.36033198\n",
      "\n",
      "5. AI Magazine: Home of AI and Artificial Intelligence News\n",
      "   🔗 Source: https://aimagazine.com/\n",
      "   📝 Summary: The No.1 Magazine, Website, Newsletter & Webinar service covering AI, Machine Learning, AR & VR, Data, Technology and AI Applications....\n",
      "   📅 Score: 0.30368066\n",
      "\n",
      "✅ News summary generated successfully using Tavily!\n"
     ]
    }
   ],
   "source": [
    "# Cell 12: Pure Tavily News Search (No LLM required)\n",
    "from tavily import TavilyClient\n",
    "import json\n",
    "from datetime import datetime\n",
    "\n",
    "def get_tech_news_summary():\n",
    "    \"\"\"Get tech news using only Tavily\"\"\"\n",
    "    try:\n",
    "        client = TavilyClient(api_key=os.getenv('TAVILY_API_KEY'))\n",
    "        \n",
    "        # Search for tech news\n",
    "        print(\"🔍 Searching for latest technology news...\")\n",
    "        results = client.search(\n",
    "            query=\"latest technology news AI machine learning 2024\",\n",
    "            max_results=5,\n",
    "            days=7  # Last 7 days only\n",
    "        )\n",
    "        \n",
    "        print(\"\\n📰 TECH NEWS SUMMARY\")\n",
    "        print(\"=\" * 50)\n",
    "        \n",
    "        for i, article in enumerate(results.get('results', []), 1):\n",
    "            print(f\"\\n{i}. {article.get('title', 'No Title')}\")\n",
    "            print(f\"   🔗 Source: {article.get('url', 'N/A')}\")\n",
    "            print(f\"   📝 Summary: {article.get('content', 'No summary available')[:200]}...\")\n",
    "            print(f\"   📅 Score: {article.get('score', 'N/A')}\")\n",
    "        \n",
    "        print(\"\\n✅ News summary generated successfully using Tavily!\")\n",
    "        return results\n",
    "        \n",
    "    except Exception as e:\n",
    "        print(f\"❌ Error: {e}\")\n",
    "        return None\n",
    "\n",
    "# Run the function\n",
    "news_data = get_tech_news_summary()"
   ]
  },
  {
   "cell_type": "code",
   "execution_count": 18,
   "id": "d5bd70de",
   "metadata": {},
   "outputs": [
    {
     "name": "stdout",
     "output_type": "stream",
     "text": [
      "✅ Enhanced AI News Summary System initialized!\n",
      "Ready to generate comprehensive reports! 🎯\n"
     ]
    }
   ],
   "source": [
    "# Cell 14: Enhanced News Summary System\n",
    "from tavily import TavilyClient\n",
    "import json\n",
    "from datetime import datetime\n",
    "import os\n",
    "from dotenv import load_dotenv\n",
    "\n",
    "load_dotenv()\n",
    "\n",
    "class AINewsSummary:\n",
    "    def __init__(self):\n",
    "        self.client = TavilyClient(api_key=os.getenv('TAVILY_API_KEY'))\n",
    "    \n",
    "    def get_news_by_category(self, category, max_results=5):\n",
    "        \"\"\"Get news by specific category\"\"\"\n",
    "        queries = {\n",
    "            'ai': 'artificial intelligence AI ChatGPT machine learning 2024',\n",
    "            'tech': 'technology latest tech innovations startups 2024',\n",
    "            'business': 'business technology companies IPO funding 2024',\n",
    "            'crypto': 'cryptocurrency bitcoin blockchain crypto news 2024'\n",
    "        }\n",
    "        \n",
    "        query = queries.get(category.lower(), f'{category} technology news 2024')\n",
    "        \n",
    "        try:\n",
    "            results = self.client.search(\n",
    "                query=query,\n",
    "                max_results=max_results,\n",
    "                days=3  # Last 3 days only for freshness\n",
    "            )\n",
    "            return results.get('results', [])\n",
    "        except Exception as e:\n",
    "            print(f\"❌ Error fetching {category} news: {e}\")\n",
    "            return []\n",
    "    \n",
    "    def format_news_summary(self, articles, title=\"Tech News Summary\"):\n",
    "        \"\"\"Format articles into a clean summary\"\"\"\n",
    "        summary = f\"\\n{'='*60}\\n\"\n",
    "        summary += f\"📰 {title.upper()}\\n\"\n",
    "        summary += f\"📅 Generated: {datetime.now().strftime('%Y-%m-%d %H:%M:%S')}\\n\"\n",
    "        summary += f\"{'='*60}\\n\"\n",
    "        \n",
    "        for i, article in enumerate(articles, 1):\n",
    "            summary += f\"\\n{i}. 📌 {article.get('title', 'Untitled')}\\n\"\n",
    "            summary += f\"   🔗 {article.get('url', 'No URL')}\\n\"\n",
    "            \n",
    "            # Clean and limit content\n",
    "            content = article.get('content', 'No summary available')\n",
    "            clean_content = content.replace('\\n', ' ').strip()\n",
    "            if len(clean_content) > 300:\n",
    "                clean_content = clean_content[:300] + \"...\"\n",
    "            \n",
    "            summary += f\"   📝 {clean_content}\\n\"\n",
    "            summary += f\"   ⭐ Relevance: {article.get('score', 'N/A')}\\n\"\n",
    "            summary += \"-\" * 60 + \"\\n\"\n",
    "        \n",
    "        return summary\n",
    "    \n",
    "    def generate_complete_report(self):\n",
    "        \"\"\"Generate a complete multi-category news report\"\"\"\n",
    "        print(\"🚀 Generating Complete AI News Report...\")\n",
    "        print(\"This will take 30-60 seconds...\\n\")\n",
    "        \n",
    "        categories = ['ai', 'tech', 'business']\n",
    "        complete_report = \"\"\n",
    "        \n",
    "        for category in categories:\n",
    "            print(f\"🔍 Fetching {category.upper()} news...\")\n",
    "            articles = self.get_news_by_category(category, max_results=3)\n",
    "            \n",
    "            if articles:\n",
    "                report_section = self.format_news_summary(\n",
    "                    articles, \n",
    "                    f\"{category.upper()} News\"\n",
    "                )\n",
    "                complete_report += report_section + \"\\n\"\n",
    "                print(f\"✅ {category.upper()} news fetched ({len(articles)} articles)\")\n",
    "            else:\n",
    "                print(f\"⚠️ No {category.upper()} news found\")\n",
    "        \n",
    "        return complete_report\n",
    "\n",
    "# Initialize the news system\n",
    "news_system = AINewsSummary()\n",
    "print(\"✅ Enhanced AI News Summary System initialized!\")\n",
    "print(\"Ready to generate comprehensive reports! 🎯\")"
   ]
  },
  {
   "cell_type": "code",
   "execution_count": 19,
   "id": "f182e2e8",
   "metadata": {},
   "outputs": [
    {
     "name": "stdout",
     "output_type": "stream",
     "text": [
      "🎯 Starting Complete News Report Generation...\n",
      "🚀 Generating Complete AI News Report...\n",
      "This will take 30-60 seconds...\n",
      "\n",
      "🔍 Fetching AI news...\n",
      "✅ AI news fetched (3 articles)\n",
      "🔍 Fetching TECH news...\n",
      "✅ TECH news fetched (3 articles)\n",
      "🔍 Fetching BUSINESS news...\n",
      "✅ BUSINESS news fetched (3 articles)\n",
      "\n",
      "============================================================\n",
      "📰 AI NEWS\n",
      "📅 Generated: 2025-07-28 00:46:45\n",
      "============================================================\n",
      "\n",
      "1. 📌 Artificial Intelligence and Machine Learning Report 2024 | Insights\n",
      "   🔗 https://www.thinkbrg.com/insights/publications/aiml-report-2024/\n",
      "   📝 This report will explore the current state of artificial intelligence regulation, guidance, and corporate governance strategy, aiming to arm corporate leaders\n",
      "   ⭐ Relevance: 0.49963441\n",
      "------------------------------------------------------------\n",
      "\n",
      "2. 📌 What is ChatGPT, DALL-E, and generative AI? | McKinsey\n",
      "   🔗 https://www.mckinsey.com/featured-insights/mckinsey-explainers/what-is-generative-ai\n",
      "   📝 Generative artificial intelligence (AI) describes algorithms (such as ChatGPT) that can be used to create new content, including audio, code, images, text, simulations, and videos. It’s clear that generative AI tools like ChatGPT (the GPT stands for generative pretrained transformer) and image gener...\n",
      "   ⭐ Relevance: 0.20654209\n",
      "------------------------------------------------------------\n",
      "\n",
      "3. 📌 Machine learning and generative AI: What are they good for in 2025?\n",
      "   🔗 https://mitsloan.mit.edu/ideas-made-to-matter/machine-learning-and-generative-ai-what-are-they-good-for\n",
      "   📝 We talked with two MIT Sloan AI experts — associate professor Swati Gupta and professor of the practice Rama Ramakrishnan — about where generative AI is replacing predictive machine learning, when machine learning is still the most effective tool, and how businesses are using the technologies togeth...\n",
      "   ⭐ Relevance: 0.07046373\n",
      "------------------------------------------------------------\n",
      "\n",
      "\n",
      "============================================================\n",
      "📰 TECH NEWS\n",
      "📅 Generated: 2025-07-28 00:46:50\n",
      "============================================================\n",
      "\n",
      "1. 📌 Forbes Next Billion-Dollar Startups 2024\n",
      "   🔗 https://www.forbes.com/sites/amyfeldman/2024/08/13/next-billion-dollar-startups-2024/\n",
      "   📝 Artificial intelligence dominates this year's list of 25 venture-backed startups we think most likely to reach a $1 billion valuation.\n",
      "   ⭐ Relevance: 0.98569\n",
      "------------------------------------------------------------\n",
      "\n",
      "2. 📌 50 Fast-Growing Tech Companies & Startups (2025)\n",
      "   🔗 https://explodingtopics.com/blog/tech-startups\n",
      "   📝 Want to know what tech services are in-demand? Check out this list of 50 growing technology startups.\n",
      "   ⭐ Relevance: 0.98454\n",
      "------------------------------------------------------------\n",
      "\n",
      "3. 📌 100 Top Startups to Watch in 2025 | Fast-Growing & VC-Backed\n",
      "   🔗 https://startupsavant.com/startups-to-watch\n",
      "   📝 From artificial intelligence (AI) to ecommerce, these are the fast-growing startups disrupting industries through new tech and innovation.\n",
      "   ⭐ Relevance: 0.97843\n",
      "------------------------------------------------------------\n",
      "\n",
      "\n",
      "============================================================\n",
      "📰 BUSINESS NEWS\n",
      "📅 Generated: 2025-07-28 00:46:52\n",
      "============================================================\n",
      "\n",
      "1. 📌 Tech IPOs 2024: Back from the Brink? - Founder Shield\n",
      "   🔗 https://foundershield.com/blog/tech-ipos-2024/\n",
      "   📝 Successful IPOs: Reddit, Astera Labs, and Tempus AI are among the notable tech companies that have successfully gone public in 2024. Challenges\n",
      "   ⭐ Relevance: 0.7515939\n",
      "------------------------------------------------------------\n",
      "\n",
      "2. 📌 [PDF] Initial Public Offerings: VC-backed IPO Statistics Through 2024\n",
      "   🔗 https://site.warrington.ufl.edu/ritter/files/IPOs-VC-backed.pdf\n",
      "   📝 There are 2,004 Venture Capital-backed tech IPOs, after excluding those with an offer price below $5.00 per share, unit offers, ADRs, closed-end\n",
      "   ⭐ Relevance: 0.7065353\n",
      "------------------------------------------------------------\n",
      "\n",
      "3. 📌 10 Companies Going Public in 2024: Trends and Analysis\n",
      "   🔗 https://data-rooms.org/blog/10-companies-going-public-in-2024/\n",
      "   📝 This blog post explores the trends and challenges in the IPO market and lists 10 upcoming IPOs to watch in various sectors.\n",
      "   ⭐ Relevance: 0.2717604\n",
      "------------------------------------------------------------\n",
      "\n",
      "\n",
      "💾 Report saved to: ai_news_report_20250728_004652.txt\n",
      "\n",
      "🎉 Complete AI News Summary Generated Successfully!\n"
     ]
    }
   ],
   "source": [
    "# Cell 15: Generate Your Complete News Report\n",
    "print(\"🎯 Starting Complete News Report Generation...\")\n",
    "\n",
    "# Generate the complete report\n",
    "final_report = news_system.generate_complete_report()\n",
    "\n",
    "# Display the report\n",
    "print(final_report)\n",
    "\n",
    "# Save to file option\n",
    "save_to_file = True  # Change to False if you don't want to save\n",
    "\n",
    "if save_to_file:\n",
    "    filename = f\"ai_news_report_{datetime.now().strftime('%Y%m%d_%H%M%S')}.txt\"\n",
    "    try:\n",
    "        with open(filename, 'w', encoding='utf-8') as f:\n",
    "            f.write(final_report)\n",
    "        print(f\"💾 Report saved to: {filename}\")\n",
    "    except Exception as e:\n",
    "        print(f\"⚠️ Could not save file: {e}\")\n",
    "\n",
    "print(\"\\n🎉 Complete AI News Summary Generated Successfully!\")"
   ]
  },
  {
   "cell_type": "code",
   "execution_count": 20,
   "id": "1c832ea3",
   "metadata": {},
   "outputs": [
    {
     "name": "stdout",
     "output_type": "stream",
     "text": [
      "🧪 Testing custom news search:\n",
      "\n",
      "1. Searching for 'OpenAI' news:\n",
      "🔍 Searching for: 'OpenAI'\n",
      "📅 Time range: Last 7 days\n",
      "📊 Max results: 3\n",
      "--------------------------------------------------\n",
      "\n",
      "============================================================\n",
      "📰 OPENAI NEWS\n",
      "📅 Generated: 2025-07-28 00:48:31\n",
      "============================================================\n",
      "\n",
      "1. 📌 OpenAI's Crucible Year: How 2024 Is Reshaping The Future Of AI\n",
      "   🔗 https://www.forbes.com/sites/solrashidi/2024/12/24/openais-crucible-year-how-2024-is-reshaping-the-future-of-ai/\n",
      "   📝 OpenAI's challenges in 2024 will shape the future of AI, setting precedence for AI regulation, AI governance and usage of data to train AI\n",
      "   ⭐ Relevance: 0.8757978\n",
      "------------------------------------------------------------\n",
      "\n",
      "2. 📌 OpenAI News\n",
      "   🔗 https://openai.com/news/\n",
      "   📝 Stay up to speed on the rapid advancement of AI technology and the benefits it offers to humanity ... Dec 20, 2024.\n",
      "   ⭐ Relevance: 0.8464638\n",
      "------------------------------------------------------------\n",
      "\n",
      "3. 📌 AI as the greatest source of empowerment for all | OpenAI\n",
      "   🔗 https://openai.com/index/ai-as-the-greatest-source-of-empowerment-for-all/\n",
      "   📝 If we get this right, AI can give everyone more power than ever. But I also realize those opportunities won't magically appear on their own.\n",
      "   ⭐ Relevance: 0.2164091\n",
      "------------------------------------------------------------\n",
      "\n",
      "\n",
      "2. You can search for any topic now!\n",
      "Example: search_custom_news('Tesla', days=5, max_results=4)\n"
     ]
    }
   ],
   "source": [
    "# Cell 16: Interactive News Search\n",
    "def search_custom_news(topic, days=7, max_results=5):\n",
    "    \"\"\"Search for news on any custom topic\"\"\"\n",
    "    print(f\"🔍 Searching for: '{topic}'\")\n",
    "    print(f\"📅 Time range: Last {days} days\")\n",
    "    print(f\"📊 Max results: {max_results}\")\n",
    "    print(\"-\" * 50)\n",
    "    \n",
    "    try:\n",
    "        articles = news_system.get_news_by_category(topic, max_results)\n",
    "        \n",
    "        if articles:\n",
    "            summary = news_system.format_news_summary(articles, f\"{topic.title()} News\")\n",
    "            print(summary)\n",
    "            return articles\n",
    "        else:\n",
    "            print(\"❌ No articles found for this topic\")\n",
    "            return []\n",
    "            \n",
    "    except Exception as e:\n",
    "        print(f\"❌ Search failed: {e}\")\n",
    "        return []\n",
    "\n",
    "# Test with different topics\n",
    "print(\"🧪 Testing custom news search:\")\n",
    "print(\"\\n1. Searching for 'OpenAI' news:\")\n",
    "openai_news = search_custom_news(\"OpenAI\", days=7, max_results=3)\n",
    "\n",
    "print(\"\\n2. You can search for any topic now!\")\n",
    "print(\"Example: search_custom_news('Tesla', days=5, max_results=4)\")"
   ]
  },
  {
   "cell_type": "code",
   "execution_count": null,
   "id": "6e71b213",
   "metadata": {},
   "outputs": [],
   "source": []
  }
 ],
 "metadata": {
  "kernelspec": {
   "display_name": "crewai_env",
   "language": "python",
   "name": "python3"
  },
  "language_info": {
   "codemirror_mode": {
    "name": "ipython",
    "version": 3
   },
   "file_extension": ".py",
   "mimetype": "text/x-python",
   "name": "python",
   "nbconvert_exporter": "python",
   "pygments_lexer": "ipython3",
   "version": "3.13.5"
  }
 },
 "nbformat": 4,
 "nbformat_minor": 5
}
